{
 "cells": [
  {
   "cell_type": "code",
   "execution_count": 9,
   "outputs": [],
   "source": [
    "import logging\n",
    "import random\n",
    "from itertools import accumulate\n",
    "from operator import xor\n",
    "from collections import namedtuple\n",
    "from copy import deepcopy"
   ],
   "metadata": {
    "collapsed": false,
    "pycharm": {
     "name": "#%%\n"
    }
   }
  },
  {
   "cell_type": "markdown",
   "source": [
    "#### Lab 3\n",
    "\n",
    "Bunch of stuff provided from lectures below\n",
    "\n",
    "- Nim class\n",
    "- Nimply namedtuple\n",
    "- nimsum() function\n"
   ],
   "metadata": {
    "collapsed": false,
    "pycharm": {
     "name": "#%% md\n"
    }
   }
  },
  {
   "cell_type": "code",
   "execution_count": 10,
   "outputs": [],
   "source": [
    "Nimply = namedtuple(\"Nimply\", \"row, num_objects\")\n",
    "\n",
    "class Nim:\n",
    "    def __init__(self, num_rows: int, k: int = None) -> None:\n",
    "        self._rows = [i * 2 + 1 for i in range(num_rows)]\n",
    "        self._k = k\n",
    "\n",
    "    def __bool__(self):\n",
    "        return sum(self._rows) > 0\n",
    "\n",
    "    def __str__(self):\n",
    "        return \"<\" + \" \".join(str(_) for _ in self._rows) + \">\"\n",
    "\n",
    "    @property\n",
    "    def rows(self) -> tuple:\n",
    "        return tuple(self._rows)\n",
    "\n",
    "    @property\n",
    "    def k(self) -> int:\n",
    "        return self._k\n",
    "\n",
    "    def nimming(self, ply: Nimply) -> None:\n",
    "        row, num_objects = ply\n",
    "        assert self._rows[row] >= num_objects\n",
    "        assert self._k is None or num_objects <= self._k\n",
    "        self._rows[row] -= num_objects\n"
   ],
   "metadata": {
    "collapsed": false,
    "pycharm": {
     "name": "#%%\n"
    }
   }
  },
  {
   "cell_type": "markdown",
   "source": [
    "### Functions for strategy and game interface\n"
   ],
   "metadata": {
    "collapsed": false,
    "pycharm": {
     "name": "#%% md\n"
    }
   }
  },
  {
   "cell_type": "code",
   "execution_count": 11,
   "outputs": [],
   "source": [
    "def nim_sum(state: Nim) -> int:\n",
    "    *_, result = accumulate(state.rows, xor)\n",
    "    return result"
   ],
   "metadata": {
    "collapsed": false,
    "pycharm": {
     "name": "#%%\n"
    }
   }
  },
  {
   "cell_type": "code",
   "execution_count": 34,
   "outputs": [],
   "source": [
    "def pure_random(state: Nim) -> Nimply:\n",
    "    move_dict = cook_status(state)\n",
    "    row, nr = move_dict['possible_moves'][random.randint(0, len(move_dict['possible_moves'])-1)]\n",
    "    return Nimply(row, nr)"
   ],
   "metadata": {
    "collapsed": false,
    "pycharm": {
     "name": "#%%\n"
    }
   }
  },
  {
   "cell_type": "code",
   "execution_count": 13,
   "outputs": [],
   "source": [
    "def optimal_strategy(state: Nim) -> Nimply:\n",
    "    data = cook_status(state)\n",
    "    return next((bf for bf in data[\"brute_force\"] if bf[1] == 0), random.choice(data[\"brute_force\"]))[0]"
   ],
   "metadata": {
    "collapsed": false,
    "pycharm": {
     "name": "#%%\n"
    }
   }
  },
  {
   "cell_type": "code",
   "execution_count": 14,
   "outputs": [],
   "source": [
    "def cook_status(state: Nim) -> dict:\n",
    "    cooked = dict()\n",
    "    cooked[\"possible_moves\"] = [\n",
    "        (r, o) for r, c in enumerate(state.rows) for o in range(1, c + 1) if state.k is None or o <= state.k\n",
    "    ]\n",
    "    cooked[\"active_rows_number\"] = sum(o > 0 for o in state.rows)\n",
    "    if cooked['active_rows_number'] == 1:\n",
    "        cooked['last_row'] = cooked[\"possible_moves\"][0][0]\n",
    "\n",
    "    cooked[\"shortest_row\"] = min((x for x in enumerate(state.rows) if x[1] > 0), key=lambda y: y[1])[0]\n",
    "    cooked[\"longest_row\"] = max((x for x in enumerate(state.rows)), key=lambda y: y[1])[0]\n",
    "    cooked[\"nim_sum\"] = nim_sum(state)\n",
    "\n",
    "    brute_force = list()\n",
    "    for m in cooked[\"possible_moves\"]:\n",
    "        tmp = deepcopy(state)\n",
    "        tmp.nimming(m)\n",
    "        brute_force.append((m, nim_sum(tmp)))\n",
    "    cooked[\"brute_force\"] = brute_force\n",
    "    return cooked"
   ],
   "metadata": {
    "collapsed": false,
    "pycharm": {
     "name": "#%%\n"
    }
   }
  },
  {
   "cell_type": "code",
   "execution_count": 39,
   "outputs": [],
   "source": [
    "def play_nim(game_nim: Nim):\n",
    "    strategy = [pure_random, optimal_strategy]\n",
    "    player = 0\n",
    "    print(f'initial state: {game_nim}')\n",
    "    while game_nim:\n",
    "        ply = strategy[player](game_nim)\n",
    "        game_nim.nimming(ply)\n",
    "        print(f'Board after player {player}\\'s move: {game_nim}')\n",
    "        player = 1 - player\n",
    "    print(f'player {1 - player} won')"
   ],
   "metadata": {
    "collapsed": false,
    "pycharm": {
     "name": "#%%\n"
    }
   }
  },
  {
   "cell_type": "markdown",
   "source": [
    "### Task 3.1\n",
    "\n",
    "Pure random strategy (player 0) playing against nim sum (player 1)"
   ],
   "metadata": {
    "collapsed": false,
    "pycharm": {
     "name": "#%% md\n"
    }
   }
  },
  {
   "cell_type": "code",
   "execution_count": 41,
   "outputs": [
    {
     "name": "stdout",
     "output_type": "stream",
     "text": [
      "initial state: <1 3 5 7 9 11 13 15 17 19 21>\n",
      "Board after player 0's move: <1 3 5 7 9 11 13 15 17 2 21>\n",
      "Board after player 1's move: <1 3 3 7 9 11 13 15 17 2 21>\n",
      "Board after player 0's move: <1 3 3 2 9 11 13 15 17 2 21>\n",
      "Board after player 1's move: <1 3 3 2 9 11 8 15 17 2 21>\n",
      "Board after player 0's move: <1 3 3 2 9 11 8 15 16 2 21>\n",
      "Board after player 1's move: <0 3 3 2 9 11 8 15 16 2 21>\n",
      "Board after player 0's move: <0 1 3 2 9 11 8 15 16 2 21>\n",
      "Board after player 1's move: <0 1 1 2 9 11 8 15 16 2 21>\n",
      "Board after player 0's move: <0 1 1 2 9 11 8 15 16 2 5>\n",
      "Board after player 1's move: <0 1 1 2 9 11 8 15 0 2 5>\n",
      "Board after player 0's move: <0 1 1 2 9 11 8 5 0 2 5>\n",
      "Board after player 1's move: <0 1 1 2 3 11 8 5 0 2 5>\n",
      "Board after player 0's move: <0 1 1 2 3 11 7 5 0 2 5>\n",
      "Board after player 1's move: <0 1 1 2 3 4 7 5 0 2 5>\n",
      "Board after player 0's move: <0 1 1 2 3 4 7 0 0 2 5>\n",
      "Board after player 1's move: <0 1 1 2 3 1 7 0 0 2 5>\n",
      "Board after player 0's move: <0 1 1 2 0 1 7 0 0 2 5>\n",
      "Board after player 1's move: <0 1 1 1 0 1 7 0 0 2 5>\n",
      "Board after player 0's move: <0 1 1 1 0 1 7 0 0 1 5>\n",
      "Board after player 1's move: <0 1 1 1 0 1 4 0 0 1 5>\n",
      "Board after player 0's move: <0 1 1 1 0 1 4 0 0 1 3>\n",
      "Board after player 1's move: <0 1 1 1 0 1 2 0 0 1 3>\n",
      "Board after player 0's move: <0 1 1 1 0 1 2 0 0 0 3>\n",
      "Board after player 1's move: <0 0 1 1 0 1 2 0 0 0 3>\n",
      "Board after player 0's move: <0 0 1 1 0 1 1 0 0 0 3>\n",
      "Board after player 1's move: <0 0 1 1 0 1 1 0 0 0 0>\n",
      "Board after player 0's move: <0 0 1 1 0 0 1 0 0 0 0>\n",
      "Board after player 1's move: <0 0 0 1 0 0 1 0 0 0 0>\n",
      "Board after player 0's move: <0 0 0 0 0 0 1 0 0 0 0>\n",
      "Board after player 1's move: <0 0 0 0 0 0 0 0 0 0 0>\n",
      "player 1 won\n"
     ]
    }
   ],
   "source": [
    "game = Nim(11)\n",
    "play_nim(game)"
   ],
   "metadata": {
    "collapsed": false,
    "pycharm": {
     "name": "#%%\n"
    }
   }
  },
  {
   "cell_type": "code",
   "execution_count": null,
   "outputs": [],
   "source": [
    "def evaluate_game(state, gene):\n",
    "    # get information from game\n",
    "    game_dict = cook_status(state)\n",
    "\n",
    "\n",
    "    # evaluate information based on most important rules first, return Nimply\n",
    "    if game_dict['active_rows_number'] == 1:\n",
    "        row = game_dict['last_row']\n",
    "        gene.set_strategy(OneRowLeft())\n",
    "        return gene.execute(row)\n",
    "\n",
    "    elif game_dict['active_rows_number'] == 2:\n",
    "        pass"
   ],
   "metadata": {
    "collapsed": false,
    "pycharm": {
     "name": "#%%\n"
    }
   }
  },
  {
   "cell_type": "code",
   "execution_count": null,
   "outputs": [],
   "source": [
    "def play_agent_game(game_nim, agent):\n",
    "    players = [agent, agent]\n",
    "    index = 0\n",
    "    #strategy = [pure_random, optimal_strategy]\n",
    "    print(f'initial state: {game_nim}')\n",
    "    while game_nim:\n",
    "        ply = evaluate_game(game_nim, players[index])\n",
    "        game_nim.nimming(ply)\n",
    "        print(f'Board after player {player}\\'s move: {game_nim}')\n",
    "        player = 1 - player\n",
    "    print(f'player {1 - player} won')\n"
   ],
   "metadata": {
    "collapsed": false,
    "pycharm": {
     "name": "#%%\n"
    }
   }
  },
  {
   "cell_type": "code",
   "execution_count": null,
   "outputs": [],
   "source": [
    "POPULATION_SIZE = 100\n",
    "NR_OF_ROWS = 11\n",
    "\n",
    "def randomize_agents():\n",
    "    agent_list = [Agent() for i in range(POPULATION_SIZE)]\n",
    "    return agent_list\n",
    "\n",
    "\n",
    "class Agent:\n",
    "    def __init__(self):\n",
    "        self.parameters = self.populate()\n",
    "\n",
    "    def populate(self):\n",
    "        func_value_dict = {'two_rows_to_win': random.randint(1, NR_OF_ROWS),\n",
    "                           'one_row_to_win': random.randint(1, NR_OF_ROWS)}\n",
    "        return func_value_dict"
   ],
   "metadata": {
    "collapsed": false,
    "pycharm": {
     "name": "#%%\n"
    }
   }
  },
  {
   "cell_type": "code",
   "execution_count": 96,
   "outputs": [],
   "source": [
    "class Gene:\n",
    "    def __init__(self):\n",
    "        self.strategy = RandRule()\n",
    "        self.parameters = self.populate()\n",
    "\n",
    "\n",
    "    def populate(self):\n",
    "        \"\"\"\n",
    "            key : strategy name\n",
    "            value : how many objects to leave on each row\n",
    "        \"\"\"\n",
    "        self.parameters = {'one_row_left': random.randint(1, NR_OF_ROWS),\n",
    "                           'one_row_to_win': random.randint(1, NR_OF_ROWS)}\n",
    "\n",
    "    def set_strategy(self, new_strategy):\n",
    "        \"\"\"\n",
    "            setter for strategy method\n",
    "            :param new_strategy: Callable, strategy to execute when calling execute()\n",
    "        \"\"\"\n",
    "        self.strategy = new_strategy\n",
    "\n",
    "    def execute(self, row):\n",
    "        \"\"\"\n",
    "            Call depending on dynamic \"configuration\", we execute move using a strategy. Default random.\n",
    "        \"\"\"\n",
    "        self.strategy.move(row, self.parameters)\n",
    "\n"
   ],
   "metadata": {
    "collapsed": false,
    "pycharm": {
     "name": "#%%\n"
    }
   }
  },
  {
   "cell_type": "code",
   "execution_count": 97,
   "outputs": [],
   "source": [
    "class Strategy:\n",
    "    \"\"\"\n",
    "        Abstract strategy class, defines move interface for specific implementations\n",
    "    \"\"\"\n",
    "\n",
    "    def __init__(self, row = None, obj = None ):\n",
    "        self.row = row\n",
    "        self.obj = obj\n",
    "\n",
    "\n",
    "    \"\"\"\n",
    "        Abstract method to be implemented in subclasses\n",
    "    \"\"\"\n",
    "    def move(self, row, parameters):\n",
    "        pass"
   ],
   "metadata": {
    "collapsed": false,
    "pycharm": {
     "name": "#%%\n"
    }
   }
  },
  {
   "cell_type": "markdown",
   "source": [
    "### Strategies\n",
    "The game uses evaluate_game to decide what strategy to use. Then sets current gene (player) to that strategy and calls execute.\n",
    "\n",
    "Currently only three strategies."
   ],
   "metadata": {
    "collapsed": false,
    "pycharm": {
     "name": "#%% md\n"
    }
   }
  },
  {
   "cell_type": "code",
   "execution_count": 98,
   "outputs": [],
   "source": [
    "class OneRowLeft(Strategy):\n",
    "    \"\"\"\n",
    "        Strategy to use to win the game when the game only consists x units on one single row\n",
    "    \"\"\"\n",
    "    def __init__(self):\n",
    "        super().__init__()\n",
    "\n",
    "    def move(self, row, parameters):\n",
    "        print('movin with rule 1')\n",
    "\n",
    "        # make implementation and return Nimply\n",
    "        return Nimply(row, parameters['one_row_left'])\n",
    "\n",
    "\n",
    "class RandRule(Strategy):\n",
    "    \"\"\"\n",
    "        Strategy to use to win the game when the game only consists x units on one single row\n",
    "    \"\"\"\n",
    "    def __init__(self):\n",
    "        super().__init__()\n",
    "\n",
    "    def move(self, row, parameters):\n",
    "        print('im moving with a random strategy')\n",
    "        #row, nr = self.cooked_dict['possible_moves'][random.randint(0, len(self.cooked_dict['possible_moves'])-1)]\n",
    "        return Nimply(1, 2)"
   ],
   "metadata": {
    "collapsed": false,
    "pycharm": {
     "name": "#%%\n"
    }
   }
  },
  {
   "cell_type": "code",
   "execution_count": null,
   "outputs": [],
   "source": [
    "population = []\n",
    "for i in range(5):\n",
    "    # create population with genes using standard random tactics\n",
    "    population.append(Gene())\n",
    "\n",
    "\n",
    "game = Nim(NR_OF_ROWS)\n",
    "\n",
    "for gene in population:\n",
    "    play_agent_game(game, gene)\n"
   ],
   "metadata": {
    "collapsed": false,
    "pycharm": {
     "name": "#%%\n"
    }
   }
  }
 ],
 "metadata": {
  "kernelspec": {
   "display_name": "Python 3",
   "language": "python",
   "name": "python3"
  },
  "language_info": {
   "codemirror_mode": {
    "name": "ipython",
    "version": 2
   },
   "file_extension": ".py",
   "mimetype": "text/x-python",
   "name": "python",
   "nbconvert_exporter": "python",
   "pygments_lexer": "ipython2",
   "version": "2.7.6"
  }
 },
 "nbformat": 4,
 "nbformat_minor": 0
}