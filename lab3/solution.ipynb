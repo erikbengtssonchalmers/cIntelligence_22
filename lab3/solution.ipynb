{
 "cells": [
  {
   "cell_type": "code",
   "execution_count": 3,
   "outputs": [],
   "source": [
    "import logging\n",
    "import random\n",
    "from itertools import accumulate\n",
    "from operator import xor\n",
    "from collections import namedtuple\n",
    "from copy import deepcopy"
   ],
   "metadata": {
    "collapsed": false,
    "pycharm": {
     "name": "#%%\n"
    }
   }
  },
  {
   "cell_type": "markdown",
   "source": [
    "#### Lab 3\n",
    "\n",
    "Bunch of stuff provided from lectures below\n",
    "\n",
    "- Nim class\n",
    "- Nimply namedtuple\n",
    "- nimsum() function\n"
   ],
   "metadata": {
    "collapsed": false,
    "pycharm": {
     "name": "#%% md\n"
    }
   }
  },
  {
   "cell_type": "code",
   "execution_count": 4,
   "outputs": [],
   "source": [
    "Nimply = namedtuple(\"Nimply\", \"row, num_objects\")\n",
    "\n",
    "class Nim:\n",
    "    def __init__(self, num_rows: int, k: int = None) -> None:\n",
    "        self._rows = [i * 2 + 1 for i in range(num_rows)]\n",
    "        self._k = k\n",
    "\n",
    "    def __bool__(self):\n",
    "        return sum(self._rows) > 0\n",
    "\n",
    "    def __str__(self):\n",
    "        return \"<\" + \" \".join(str(_) for _ in self._rows) + \">\"\n",
    "\n",
    "    @property\n",
    "    def rows(self) -> tuple:\n",
    "        return tuple(self._rows)\n",
    "\n",
    "    @property\n",
    "    def k(self) -> int:\n",
    "        return self._k\n",
    "\n",
    "    def nimming(self, ply: Nimply) -> None:\n",
    "        row, num_objects = ply\n",
    "        assert self._rows[row] >= num_objects\n",
    "        assert self._k is None or num_objects <= self._k\n",
    "        self._rows[row] -= num_objects\n"
   ],
   "metadata": {
    "collapsed": false,
    "pycharm": {
     "name": "#%%\n"
    }
   }
  },
  {
   "cell_type": "markdown",
   "source": [
    "### Functions for strategy and game interface\n"
   ],
   "metadata": {
    "collapsed": false,
    "pycharm": {
     "name": "#%% md\n"
    }
   }
  },
  {
   "cell_type": "code",
   "execution_count": 5,
   "outputs": [],
   "source": [
    "def nim_sum(state: Nim) -> int:\n",
    "    *_, result = accumulate(state.rows, xor)\n",
    "    return result"
   ],
   "metadata": {
    "collapsed": false,
    "pycharm": {
     "name": "#%%\n"
    }
   }
  },
  {
   "cell_type": "code",
   "execution_count": 6,
   "outputs": [],
   "source": [
    "def pure_random(state: Nim) -> Nimply:\n",
    "    move_dict = cook_status(state)\n",
    "    row, nr = move_dict['possible_moves'][random.randint(0, len(move_dict['possible_moves'])-1)]\n",
    "    return Nimply(row, nr)"
   ],
   "metadata": {
    "collapsed": false,
    "pycharm": {
     "name": "#%%\n"
    }
   }
  },
  {
   "cell_type": "code",
   "execution_count": 7,
   "outputs": [],
   "source": [
    "def optimal_strategy(state: Nim) -> Nimply:\n",
    "    data = cook_status(state)\n",
    "    return next((bf for bf in data[\"brute_force\"] if bf[1] == 0), random.choice(data[\"brute_force\"]))[0]"
   ],
   "metadata": {
    "collapsed": false,
    "pycharm": {
     "name": "#%%\n"
    }
   }
  },
  {
   "cell_type": "code",
   "execution_count": 8,
   "outputs": [],
   "source": [
    "def cook_status(state: Nim) -> dict:\n",
    "    cooked = dict()\n",
    "    cooked[\"possible_moves\"] = [\n",
    "        (r, o) for r, c in enumerate(state.rows) for o in range(1, c + 1) if state.k is None or o <= state.k\n",
    "    ]\n",
    "    cooked[\"active_rows_number\"] = sum(o > 0 for o in state.rows)\n",
    "    if cooked['active_rows_number'] == 1:\n",
    "        cooked['last_row'] = cooked[\"possible_moves\"][0][0]\n",
    "\n",
    "    cooked[\"shortest_row\"] = min((x for x in enumerate(state.rows) if x[1] > 0), key=lambda y: y[1])[0]\n",
    "    cooked[\"longest_row\"] = max((x for x in enumerate(state.rows)), key=lambda y: y[1])[0]\n",
    "    cooked[\"nim_sum\"] = nim_sum(state)\n",
    "\n",
    "    brute_force = list()\n",
    "    for m in cooked[\"possible_moves\"]:\n",
    "        tmp = deepcopy(state)\n",
    "        tmp.nimming(m)\n",
    "        brute_force.append((m, nim_sum(tmp)))\n",
    "    cooked[\"brute_force\"] = brute_force\n",
    "    return cooked"
   ],
   "metadata": {
    "collapsed": false,
    "pycharm": {
     "name": "#%%\n"
    }
   }
  },
  {
   "cell_type": "code",
   "execution_count": 9,
   "outputs": [],
   "source": [
    "def play_nim(game_nim: Nim):\n",
    "    strategy = [pure_random, optimal_strategy]\n",
    "    player = 0\n",
    "    print(f'initial state: {game_nim}')\n",
    "    while game_nim:\n",
    "        ply = strategy[player](game_nim)\n",
    "        game_nim.nimming(ply)\n",
    "        print(f'Board after player {player}\\'s move: {game_nim}')\n",
    "        player = 1 - player\n",
    "    print(f'player {1 - player} won')"
   ],
   "metadata": {
    "collapsed": false,
    "pycharm": {
     "name": "#%%\n"
    }
   }
  },
  {
   "cell_type": "markdown",
   "source": [
    "### Task 3.1\n",
    "\n",
    "Pure random strategy (player 0) playing against nim sum (player 1)"
   ],
   "metadata": {
    "collapsed": false,
    "pycharm": {
     "name": "#%% md\n"
    }
   }
  },
  {
   "cell_type": "code",
   "execution_count": 10,
   "outputs": [
    {
     "name": "stdout",
     "output_type": "stream",
     "text": [
      "initial state: <1 3 5 7 9 11 13 15 17 19 21>\n",
      "Board after player 0's move: <1 3 5 7 9 11 13 14 17 19 21>\n",
      "Board after player 1's move: <1 3 5 7 9 11 13 14 7 19 21>\n",
      "Board after player 0's move: <1 3 5 7 9 11 13 14 7 12 21>\n",
      "Board after player 1's move: <1 3 5 7 9 11 13 14 7 12 10>\n",
      "Board after player 0's move: <1 3 5 7 9 11 1 14 7 12 10>\n",
      "Board after player 1's move: <1 3 5 7 5 11 1 14 7 12 10>\n",
      "Board after player 0's move: <1 3 5 7 5 8 1 14 7 12 10>\n",
      "Board after player 1's move: <1 0 5 7 5 8 1 14 7 12 10>\n",
      "Board after player 0's move: <1 0 5 7 5 8 1 10 7 12 10>\n",
      "Board after player 1's move: <1 0 1 7 5 8 1 10 7 12 10>\n",
      "Board after player 0's move: <1 0 1 7 5 8 1 10 7 5 10>\n",
      "Board after player 1's move: <1 0 1 7 5 1 1 10 7 5 10>\n",
      "Board after player 0's move: <1 0 1 7 5 1 1 10 3 5 10>\n",
      "Board after player 1's move: <1 0 1 3 5 1 1 10 3 5 10>\n",
      "Board after player 0's move: <1 0 1 3 5 1 1 3 3 5 10>\n",
      "Board after player 1's move: <1 0 1 3 5 1 1 3 3 5 3>\n",
      "Board after player 0's move: <1 0 1 3 5 1 1 3 3 1 3>\n",
      "Board after player 1's move: <1 0 1 3 1 1 1 3 3 1 3>\n",
      "Board after player 0's move: <1 0 0 3 1 1 1 3 3 1 3>\n",
      "Board after player 1's move: <0 0 0 3 1 1 1 3 3 1 3>\n",
      "Board after player 0's move: <0 0 0 3 0 1 1 3 3 1 3>\n",
      "Board after player 1's move: <0 0 0 2 0 1 1 3 3 1 3>\n",
      "Board after player 0's move: <0 0 0 2 0 1 1 3 3 0 3>\n",
      "Board after player 1's move: <0 0 0 2 0 0 1 3 3 0 3>\n",
      "Board after player 0's move: <0 0 0 2 0 0 1 0 3 0 3>\n",
      "Board after player 1's move: <0 0 0 1 0 0 1 0 3 0 3>\n",
      "Board after player 0's move: <0 0 0 1 0 0 1 0 2 0 3>\n",
      "Board after player 1's move: <0 0 0 0 0 0 1 0 2 0 3>\n",
      "Board after player 0's move: <0 0 0 0 0 0 1 0 2 0 1>\n",
      "Board after player 1's move: <0 0 0 0 0 0 1 0 0 0 1>\n",
      "Board after player 0's move: <0 0 0 0 0 0 0 0 0 0 1>\n",
      "Board after player 1's move: <0 0 0 0 0 0 0 0 0 0 0>\n",
      "player 1 won\n"
     ]
    }
   ],
   "source": [
    "game = Nim(11)\n",
    "play_nim(game)"
   ],
   "metadata": {
    "collapsed": false,
    "pycharm": {
     "name": "#%%\n"
    }
   }
  },
  {
   "cell_type": "markdown",
   "source": [
    "### Task 3.2 GA\n",
    "\n",
    "The solution introduces three new main components:\n",
    " - The evaluate_game function, used to extract situations from cooked status and then decide what strategy that the gene should use.\n",
    " - Gene class: represent a gene in the population. Randomize its variables when creating it. All genes has the same set of strategies. Strategies are called by Strategy interface with a specific implementation, decided by evaluate game. If no structure is set, use pure random strategy.\n",
    " - Strategies, using a strategy pattern where concrete implementation of rules are subclasses to strategy.\n",
    "\n",
    "The idea w the solution is to use a couple of rules with random values. The values in this case represent how many objects to leave in a certain row when making a move. Using a lot of different genes, some of them hopefully will spawn with good."
   ],
   "metadata": {
    "collapsed": false,
    "pycharm": {
     "name": "#%% md\n"
    }
   }
  },
  {
   "cell_type": "code",
   "execution_count": 11,
   "outputs": [],
   "source": [
    "\n",
    "# Some global variables used to control population and game\n",
    "POPULATION_SIZE = 100\n",
    "NR_OF_ROWS = 11"
   ],
   "metadata": {
    "collapsed": false,
    "pycharm": {
     "name": "#%%\n"
    }
   }
  },
  {
   "cell_type": "code",
   "execution_count": 20,
   "outputs": [],
   "source": [
    "def play_nim_game(game_nim, agent):\n",
    "    players = [agent[0], agent[1]]\n",
    "    index = 0\n",
    "    print(f'initial state: {game_nim}')\n",
    "    while game_nim:\n",
    "        ply = evaluate_game(game_nim, players[index])\n",
    "        game_nim.nimming(ply)\n",
    "        print(f'Board after player {player}\\'s move: {game_nim}')\n",
    "        player = 1 - player\n",
    "    print(f'player {1 - player} won')\n"
   ],
   "metadata": {
    "collapsed": false,
    "pycharm": {
     "name": "#%%\n"
    }
   }
  },
  {
   "cell_type": "code",
   "execution_count": 13,
   "outputs": [],
   "source": [
    "def evaluate_game(state, gene):\n",
    "    # get information from game\n",
    "    game_dict = cook_status(state)\n",
    "\n",
    "    # evaluate information based on most important rules first, return Nimply from gene class\n",
    "    if game_dict['active_rows_number'] == 1:\n",
    "        move = game_dict['last_row']\n",
    "        gene.set_strategy(OneRowLeft())\n",
    "        return gene.execute(move)\n",
    "\n",
    "    elif game_dict['active_rows_number'] == 2:\n",
    "        pass\n",
    "    else:\n",
    "        move = game_dict['possible_moves'][random.randint(0, len(game_dict['possible_moves'])-1)]\n",
    "        gene.set_strategy(RandRule())\n",
    "        return gene.execute(move)"
   ],
   "metadata": {
    "collapsed": false,
    "pycharm": {
     "name": "#%%\n"
    }
   }
  },
  {
   "cell_type": "code",
   "execution_count": 14,
   "outputs": [],
   "source": [
    "class Gene:\n",
    "    def __init__(self):\n",
    "        self.parameters = self.populate()\n",
    "        self.strategy = RandRule()\n",
    "\n",
    "    def populate(self):\n",
    "        \"\"\"\n",
    "            key : strategy name\n",
    "            value : how many objects to leave on each row\n",
    "        \"\"\"\n",
    "        self.parameters = {'one_row_left': random.randint(1, NR_OF_ROWS),\n",
    "                           'one_row_to_win': random.randint(1, NR_OF_ROWS)}\n",
    "\n",
    "    def set_strategy(self, new_strategy):\n",
    "        \"\"\"\n",
    "            setter for strategy method\n",
    "            :param new_strategy: Callable, strategy to execute when calling execute()\n",
    "        \"\"\"\n",
    "        self.strategy = new_strategy\n",
    "\n",
    "    def execute(self, move):\n",
    "        \"\"\"\n",
    "            Call depending on dynamic \"configuration\", we execute move using a strategy. Default random.\n",
    "        \"\"\"\n",
    "        self.strategy.move(move, self.parameters)\n",
    "\n"
   ],
   "metadata": {
    "collapsed": false,
    "pycharm": {
     "name": "#%%\n"
    }
   }
  },
  {
   "cell_type": "code",
   "execution_count": 15,
   "outputs": [],
   "source": [
    "class Strategy:\n",
    "    \"\"\"\n",
    "        Abstract strategy class, defines move interface for specific implementations\n",
    "    \"\"\"\n",
    "    def __init__(self):\n",
    "        pass\n",
    "    \"\"\"\n",
    "        Abstract method to be implemented in subclasses\n",
    "    \"\"\"\n",
    "    def move(self, move, parameters):\n",
    "        pass"
   ],
   "metadata": {
    "collapsed": false,
    "pycharm": {
     "name": "#%%\n"
    }
   }
  },
  {
   "cell_type": "markdown",
   "source": [
    "### Strategies\n",
    "The game uses evaluate_game to decide what strategy to use. Then sets current gene (player) to that strategy and calls execute.\n",
    "\n",
    "Currently only three strategies."
   ],
   "metadata": {
    "collapsed": false,
    "pycharm": {
     "name": "#%% md\n"
    }
   }
  },
  {
   "cell_type": "code",
   "execution_count": 16,
   "outputs": [],
   "source": [
    "class OneRowLeft(Strategy):\n",
    "    \"\"\"\n",
    "        Strategy to use to win the game when the game only consists x units on one single row\n",
    "    \"\"\"\n",
    "    def __init__(self):\n",
    "        super().__init__()\n",
    "\n",
    "    def move(self, move, parameters):\n",
    "        print('movin with rule 1')\n",
    "        # make implementation and return Nimply\n",
    "        return Nimply(move[0], parameters['one_row_left'])\n",
    "\n",
    "\n",
    "class RandRule(Strategy):\n",
    "    \"\"\"\n",
    "        Strategy to use to win the game when the game only consists x units on one single row\n",
    "    \"\"\"\n",
    "    def __init__(self):\n",
    "        super().__init__()\n",
    "\n",
    "\n",
    "    def move(self, move, parameters):\n",
    "        print('im moving with a random strategy')\n",
    "        return Nimply(move[0], move[1])"
   ],
   "metadata": {
    "collapsed": false,
    "pycharm": {
     "name": "#%%\n"
    }
   }
  },
  {
   "cell_type": "code",
   "execution_count": 17,
   "outputs": [],
   "source": [
    "#population = []\n",
    "#for i in range(5):\n",
    "    # create population with genes using standard random tactics\n",
    "    #population.append(Gene())\n",
    "\n",
    "#game = Nim(NR_OF_ROWS)\n",
    "\n",
    "#for gene in population:\n",
    "#    play_agent_game(game, gene)\n"
   ],
   "metadata": {
    "collapsed": false,
    "pycharm": {
     "name": "#%%\n"
    }
   }
  },
  {
   "cell_type": "code",
   "execution_count": 22,
   "outputs": [
    {
     "name": "stdout",
     "output_type": "stream",
     "text": [
      "initial state: <1 3 5 7 9 11 13 15 17 19 21>\n",
      "im moving with a random strategy\n"
     ]
    },
    {
     "ename": "TypeError",
     "evalue": "cannot unpack non-iterable NoneType object",
     "output_type": "error",
     "traceback": [
      "\u001B[0;31m---------------------------------------------------------------------------\u001B[0m",
      "\u001B[0;31mTypeError\u001B[0m                                 Traceback (most recent call last)",
      "Cell \u001B[0;32mIn [22], line 5\u001B[0m\n\u001B[1;32m      2\u001B[0m gene1 \u001B[38;5;241m=\u001B[39m Gene()\n\u001B[1;32m      3\u001B[0m gene2 \u001B[38;5;241m=\u001B[39m Gene()\n\u001B[0;32m----> 5\u001B[0m \u001B[43mplay_nim_game\u001B[49m\u001B[43m(\u001B[49m\u001B[43mgame\u001B[49m\u001B[43m,\u001B[49m\u001B[43m \u001B[49m\u001B[43m[\u001B[49m\u001B[43mgene1\u001B[49m\u001B[43m,\u001B[49m\u001B[43m \u001B[49m\u001B[43mgene2\u001B[49m\u001B[43m]\u001B[49m\u001B[43m)\u001B[49m\n",
      "Cell \u001B[0;32mIn [20], line 7\u001B[0m, in \u001B[0;36mplay_nim_game\u001B[0;34m(game_nim, agent)\u001B[0m\n\u001B[1;32m      5\u001B[0m \u001B[38;5;28;01mwhile\u001B[39;00m game_nim:\n\u001B[1;32m      6\u001B[0m     ply \u001B[38;5;241m=\u001B[39m evaluate_game(game_nim, players[index])\n\u001B[0;32m----> 7\u001B[0m     \u001B[43mgame_nim\u001B[49m\u001B[38;5;241;43m.\u001B[39;49m\u001B[43mnimming\u001B[49m\u001B[43m(\u001B[49m\u001B[43mply\u001B[49m\u001B[43m)\u001B[49m\n\u001B[1;32m      8\u001B[0m     \u001B[38;5;28mprint\u001B[39m(\u001B[38;5;124mf\u001B[39m\u001B[38;5;124m'\u001B[39m\u001B[38;5;124mBoard after player \u001B[39m\u001B[38;5;132;01m{\u001B[39;00mplayer\u001B[38;5;132;01m}\u001B[39;00m\u001B[38;5;130;01m\\'\u001B[39;00m\u001B[38;5;124ms move: \u001B[39m\u001B[38;5;132;01m{\u001B[39;00mgame_nim\u001B[38;5;132;01m}\u001B[39;00m\u001B[38;5;124m'\u001B[39m)\n\u001B[1;32m      9\u001B[0m     player \u001B[38;5;241m=\u001B[39m \u001B[38;5;241m1\u001B[39m \u001B[38;5;241m-\u001B[39m player\n",
      "Cell \u001B[0;32mIn [4], line 23\u001B[0m, in \u001B[0;36mNim.nimming\u001B[0;34m(self, ply)\u001B[0m\n\u001B[1;32m     22\u001B[0m \u001B[38;5;28;01mdef\u001B[39;00m \u001B[38;5;21mnimming\u001B[39m(\u001B[38;5;28mself\u001B[39m, ply: Nimply) \u001B[38;5;241m-\u001B[39m\u001B[38;5;241m>\u001B[39m \u001B[38;5;28;01mNone\u001B[39;00m:\n\u001B[0;32m---> 23\u001B[0m     row, num_objects \u001B[38;5;241m=\u001B[39m ply\n\u001B[1;32m     24\u001B[0m     \u001B[38;5;28;01massert\u001B[39;00m \u001B[38;5;28mself\u001B[39m\u001B[38;5;241m.\u001B[39m_rows[row] \u001B[38;5;241m>\u001B[39m\u001B[38;5;241m=\u001B[39m num_objects\n\u001B[1;32m     25\u001B[0m     \u001B[38;5;28;01massert\u001B[39;00m \u001B[38;5;28mself\u001B[39m\u001B[38;5;241m.\u001B[39m_k \u001B[38;5;129;01mis\u001B[39;00m \u001B[38;5;28;01mNone\u001B[39;00m \u001B[38;5;129;01mor\u001B[39;00m num_objects \u001B[38;5;241m<\u001B[39m\u001B[38;5;241m=\u001B[39m \u001B[38;5;28mself\u001B[39m\u001B[38;5;241m.\u001B[39m_k\n",
      "\u001B[0;31mTypeError\u001B[0m: cannot unpack non-iterable NoneType object"
     ]
    }
   ],
   "source": [
    "game = Nim(NR_OF_ROWS)\n",
    "gene1 = Gene()\n",
    "gene2 = Gene()\n",
    "\n",
    "play_nim_game(game, [gene1, gene2])"
   ],
   "metadata": {
    "collapsed": false,
    "pycharm": {
     "name": "#%%\n"
    }
   }
  },
  {
   "cell_type": "code",
   "execution_count": null,
   "outputs": [],
   "source": [],
   "metadata": {
    "collapsed": false,
    "pycharm": {
     "name": "#%%\n"
    }
   }
  }
 ],
 "metadata": {
  "kernelspec": {
   "display_name": "Python 3",
   "language": "python",
   "name": "python3"
  },
  "language_info": {
   "codemirror_mode": {
    "name": "ipython",
    "version": 2
   },
   "file_extension": ".py",
   "mimetype": "text/x-python",
   "name": "python",
   "nbconvert_exporter": "python",
   "pygments_lexer": "ipython2",
   "version": "2.7.6"
  }
 },
 "nbformat": 4,
 "nbformat_minor": 0
}