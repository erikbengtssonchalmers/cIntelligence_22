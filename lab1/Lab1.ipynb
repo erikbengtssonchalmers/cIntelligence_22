{
 "cells": [
  {
   "cell_type": "code",
   "execution_count": 1,
   "metadata": {
    "pycharm": {
     "name": "#%%\n"
    }
   },
   "outputs": [],
   "source": [
    "import random\n",
    "import logging"
   ]
  },
  {
   "cell_type": "code",
   "execution_count": 2,
   "metadata": {
    "pycharm": {
     "name": "#%%\n"
    }
   },
   "outputs": [],
   "source": [
    "# setup logging\n",
    "logging.basicConfig(format='%(message)s',level=logging.DEBUG)"
   ]
  },
  {
   "cell_type": "code",
   "execution_count": 3,
   "metadata": {
    "pycharm": {
     "name": "#%%\n"
    }
   },
   "outputs": [],
   "source": [
    "# search space generator, supplied by assignment\n",
    "def problem(N, seed=None):\n",
    "    random.seed(seed)\n",
    "    return [\n",
    "        list(set(random.randint(0, N - 1) for n in range(random.randint(N // 5, N // 2))))\n",
    "        for n in range(random.randint(N, N * 5))\n",
    "    ]"
   ]
  },
  {
   "cell_type": "code",
   "execution_count": 4,
   "outputs": [],
   "source": [
    "# check if all numbers has been discovered, if so, return True\n",
    "def check_if_done(curr, goal):\n",
    "        return curr == goal"
   ],
   "metadata": {
    "collapsed": false,
    "pycharm": {
     "name": "#%%\n"
    }
   }
  },
  {
   "cell_type": "code",
   "execution_count": 5,
   "outputs": [],
   "source": [
    "def search_algorithm(N):\n",
    "    discovered = set()\n",
    "    # sort on length first time since the set of discovered numbers will be empty\n",
    "    actions = sorted(problem(N,seed=42), key=lambda x: len(x), reverse=True)\n",
    "    goal_state = set(range(N))\n",
    "    path = []\n",
    "    while actions or not check_if_done(discovered, goal_state):\n",
    "        obj = actions.pop(0)\n",
    "        # Only add if there are new undiscovered elements in current row of input\n",
    "        if len(set(obj).difference(discovered)) > 0:\n",
    "            path.append(obj)\n",
    "            discovered.update(set(obj))\n",
    "        actions = sorted(actions, key=lambda x: len(set(x).difference(discovered)), reverse=True)\n",
    "    if discovered == goal_state:\n",
    "        logging.info(f' Success: N={N}, weight={sum(len(x) for x in path)}')\n",
    "    else:\n",
    "        logging.info(f'Did not find a valid solution for N={N}')"
   ],
   "metadata": {
    "collapsed": false,
    "pycharm": {
     "name": "#%%\n"
    }
   }
  },
  {
   "cell_type": "code",
   "execution_count": 6,
   "outputs": [
    {
     "name": "stderr",
     "output_type": "stream",
     "text": [
      " Success: N=5, weight=6\n",
      " Success: N=10, weight=13\n",
      " Success: N=20, weight=32\n",
      " Success: N=100, weight=191\n",
      " Success: N=500, weight=1375\n",
      " Success: N=1000, weight=3087\n"
     ]
    }
   ],
   "source": [
    "for N in [5, 10, 20, 100, 500, 1000]:\n",
    "    search_algorithm(N)"
   ],
   "metadata": {
    "collapsed": false,
    "pycharm": {
     "name": "#%%\n"
    }
   }
  },
  {
   "cell_type": "code",
   "execution_count": null,
   "outputs": [],
   "source": [],
   "metadata": {
    "collapsed": false,
    "pycharm": {
     "name": "#%%\n"
    }
   }
  }
 ],
 "metadata": {
  "kernelspec": {
   "display_name": "Python 3 (ipykernel)",
   "language": "python",
   "name": "python3"
  },
  "language_info": {
   "codemirror_mode": {
    "name": "ipython",
    "version": 3
   },
   "file_extension": ".py",
   "mimetype": "text/x-python",
   "name": "python",
   "nbconvert_exporter": "python",
   "pygments_lexer": "ipython3",
   "version": "3.9.9"
  }
 },
 "nbformat": 4,
 "nbformat_minor": 1
}